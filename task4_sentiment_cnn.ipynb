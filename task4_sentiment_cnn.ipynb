{
 "cells": [
  {
   "cell_type": "markdown",
   "metadata": {},
   "source": [
    "### Some extra imports"
   ]
  },
  {
   "cell_type": "code",
   "execution_count": 1,
   "metadata": {
    "pycharm": {
     "name": "#%%\n"
    }
   },
   "outputs": [],
   "source": [
    "%load_ext autoreload\n",
    "%autoreload 2\n",
    "from assignment import const\n",
    "import random\n",
    "from assignment.pipeline import init_random_seed\n",
    "from torch.utils.tensorboard import SummaryWriter"
   ]
  },
  {
   "cell_type": "markdown",
   "metadata": {},
   "source": [
    "## Assignment 2.4: Text classification via CNN (20 points)"
   ]
  },
  {
   "cell_type": "markdown",
   "metadata": {},
   "source": [
    "In this assignment you should perform sentiment analysis of the IMDB reviews based on CNN architecture. Read carefully [Convolutional Neural Networks for Sentence Classification](https://arxiv.org/pdf/1408.5882.pdf) by Yoon Kim."
   ]
  },
  {
   "cell_type": "code",
   "execution_count": 2,
   "metadata": {},
   "outputs": [],
   "source": [
    "import torch\n",
    "\n",
    "from torchtext import datasets\n",
    "from torchtext.data import Field, LabelField\n",
    "from torchtext.data import Iterator\n",
    "\n",
    "import torch.nn as nn\n",
    "import torch.optim as optim"
   ]
  },
  {
   "cell_type": "markdown",
   "metadata": {},
   "source": [
    "### Good idea to froze some randomness before experiments\n"
   ]
  },
  {
   "cell_type": "markdown",
   "metadata": {},
   "source": [
    "### Preparing Data"
   ]
  },
  {
   "cell_type": "code",
   "execution_count": 44,
   "metadata": {},
   "outputs": [],
   "source": [
    "TEXT = Field(sequential=True, lower=True, batch_first=True)\n",
    "LABEL = LabelField(batch_first=True, dtype=torch.float)"
   ]
  },
  {
   "cell_type": "code",
   "execution_count": 45,
   "metadata": {},
   "outputs": [],
   "source": [
    "\n",
    "train, tst = datasets.IMDB.splits(TEXT, LABEL)\n",
    "trn, vld = train.split(random_state=random.seed(const.SEED))"
   ]
  },
  {
   "cell_type": "code",
   "execution_count": 46,
   "metadata": {},
   "outputs": [],
   "source": [
    "# %%time\n",
    "TEXT.build_vocab(trn)"
   ]
  },
  {
   "cell_type": "code",
   "execution_count": 47,
   "metadata": {},
   "outputs": [],
   "source": [
    "LABEL.build_vocab(trn)"
   ]
  },
  {
   "cell_type": "markdown",
   "metadata": {},
   "source": [
    "### Creating the Iterator (2 points)"
   ]
  },
  {
   "cell_type": "markdown",
   "metadata": {},
   "source": [
    "Define an iterator here"
   ]
  },
  {
   "cell_type": "code",
   "execution_count": 48,
   "metadata": {},
   "outputs": [],
   "source": [
    "init_random_seed()\n",
    "train_iter, val_iter, test_iter = Iterator.splits(\n",
    "        (trn, vld, tst),\n",
    "        batch_sizes=(64, 64, 64),\n",
    "        device='cuda',\n",
    "        repeat=False,\n",
    ")"
   ]
  },
  {
   "cell_type": "code",
   "execution_count": 49,
   "metadata": {
    "pycharm": {
     "name": "#%%\n"
    }
   },
   "outputs": [],
   "source": [
    "# next(train_iter)"
   ]
  },
  {
   "cell_type": "markdown",
   "metadata": {},
   "source": [
    "### Define CNN-based text classification model (8 points)"
   ]
  },
  {
   "cell_type": "code",
   "execution_count": 63,
   "metadata": {},
   "outputs": [],
   "source": [
    "from assignment.model import CNN"
   ]
  },
  {
   "cell_type": "code",
   "execution_count": 51,
   "metadata": {},
   "outputs": [],
   "source": [
    "kernel_sizes = [3, 4, 5]\n",
    "vocab_size = len(TEXT.vocab)\n",
    "dropout = 0.5\n",
    "dim = 300\n",
    "\n",
    "model = CNN(vocab_size, dim, kernel_sizes, dropout)"
   ]
  },
  {
   "cell_type": "code",
   "execution_count": 52,
   "metadata": {
    "pycharm": {
     "name": "#%%\n"
    }
   },
   "outputs": [
    {
     "data": {
      "text/plain": [
       "CNN(\n",
       "  (emb): Embedding(201009, 300, padding_idx=1)\n",
       "  (cnns): ModuleList(\n",
       "    (0): Sequential(\n",
       "      (0): Conv1d(300, 5, kernel_size=(3,), stride=(1,))\n",
       "      (1): AdaptiveMaxPool1d(output_size=1)\n",
       "    )\n",
       "    (1): Sequential(\n",
       "      (0): Conv1d(300, 5, kernel_size=(4,), stride=(1,))\n",
       "      (1): AdaptiveMaxPool1d(output_size=1)\n",
       "    )\n",
       "    (2): Sequential(\n",
       "      (0): Conv1d(300, 5, kernel_size=(5,), stride=(1,))\n",
       "      (1): AdaptiveMaxPool1d(output_size=1)\n",
       "    )\n",
       "  )\n",
       "  (decoder): Linear(in_features=15, out_features=1, bias=True)\n",
       ")"
      ]
     },
     "execution_count": 52,
     "metadata": {},
     "output_type": "execute_result"
    }
   ],
   "source": [
    "model.cuda()"
   ]
  },
  {
   "cell_type": "markdown",
   "metadata": {},
   "source": [
    "### The training loop (3 points)"
   ]
  },
  {
   "cell_type": "markdown",
   "metadata": {},
   "source": [
    "Define the optimization function and the loss functions."
   ]
  },
  {
   "cell_type": "code",
   "execution_count": 53,
   "metadata": {},
   "outputs": [],
   "source": [
    "opt = optim.Adam(params=model.parameters(), lr=1e-3)\n",
    "loss_func = nn.BCEWithLogitsLoss()"
   ]
  },
  {
   "cell_type": "markdown",
   "metadata": {},
   "source": [
    "Think carefully about the stopping criteria. "
   ]
  },
  {
   "cell_type": "code",
   "execution_count": 54,
   "metadata": {},
   "outputs": [],
   "source": [
    "epochs = 6# your code goes here"
   ]
  },
  {
   "cell_type": "code",
   "execution_count": 55,
   "metadata": {},
   "outputs": [],
   "source": [
    "import matplotlib.pyplot as plt\n",
    "%matplotlib inline\n",
    "from IPython.core.display import clear_output\n",
    "\n",
    "from assignment.util import binary_accuracy"
   ]
  },
  {
   "cell_type": "code",
   "execution_count": 56,
   "metadata": {
    "pycharm": {
     "name": "#%%\n"
    }
   },
   "outputs": [
    {
     "data": {
      "image/png": "[encoded data removed]",
      "text/plain": [
       "<Figure size 432x288 with 1 Axes>"
      ]
     },
     "metadata": {
      "needs_background": "light"
     },
     "output_type": "display_data"
    },
    {
     "name": "stdout",
     "output_type": "stream",
     "text": [
      "Epoch: 6, Training Loss: 0.050301448727556826, Validation Loss: 0.46390817718485655, Accuracy: 0.8103371858596802\n",
      "Wall time: 2min 38s\n"
     ]
    }
   ],
   "source": [
    "%%time\n",
    "tb_writer = SummaryWriter('runs/task4/baseline')\n",
    "init_random_seed()\n",
    "history = []\n",
    "for epoch in range(1, epochs + 1):\n",
    "    running_loss = 0.0\n",
    "    running_corrects = 0\n",
    "    model.train()\n",
    "    for id_batch, batch in enumerate(train_iter):\n",
    "\n",
    "        x = batch.text\n",
    "        y = batch.label\n",
    "\n",
    "        opt.zero_grad()\n",
    "        preds, _ = model(x)\n",
    "        loss = loss_func(preds, y)\n",
    "        loss.backward()\n",
    "        opt.step()\n",
    "        running_loss += loss.item()\n",
    "\n",
    "        tb_writer.add_scalar('Loss/Train', loss.item(), epoch * len(train_iter) + id_batch)\n",
    "\n",
    "\n",
    "        # visualizing training process\n",
    "        history.append(loss.item())\n",
    "        i = 0\n",
    "        if (id_batch + 1) % 10 == 0:\n",
    "            i+=1\n",
    "            clear_output(True)\n",
    "            plt.plot(history, label='Loss')\n",
    "            plt.show()\n",
    "\n",
    "    epoch_loss = running_loss / len(train_iter)\n",
    "\n",
    "    val_loss = 0.0\n",
    "    val_acc = 0.0\n",
    "    model.eval()\n",
    "    for batch in val_iter:\n",
    "\n",
    "        x = batch.text\n",
    "        y = batch.label\n",
    "\n",
    "        preds, _ = model(x)\n",
    "        loss = loss_func(preds, y)\n",
    "        val_loss += loss.item()\n",
    "\n",
    "        val_acc += binary_accuracy(preds, y)\n",
    "\n",
    "    val_loss /= len(val_iter)\n",
    "    val_acc /= len(val_iter)\n",
    "    tb_writer.add_scalar('Loss/Valid', val_loss, (1 + epoch) * len(train_iter))\n",
    "    tb_writer.add_scalar('Accuracy/Valid', val_acc, (1 + epoch) * len(train_iter))\n",
    "    print('Epoch: {}, Training Loss: {}, Validation Loss: {}, Accuracy: {}'.format(epoch, epoch_loss, val_loss, val_acc))\n",
    "tb_writer.close()"
   ]
  },
  {
   "cell_type": "markdown",
   "metadata": {},
   "source": [
    "### Calculate performance of the trained model (2 points)"
   ]
  },
  {
   "cell_type": "code",
   "execution_count": 64,
   "metadata": {
    "pycharm": {
     "name": "#%%\n"
    }
   },
   "outputs": [],
   "source": [
    "from assignment.pipeline import model_performance_calculator\n",
    "\n",
    "model_performance_calculator(model, test_iter)"
   ]
  },
  {
   "cell_type": "markdown",
   "metadata": {},
   "source": [
    "Write down the calculated performance\n",
    "\n",
    "### Accuracy: 0.8123599886894226\n",
    "### Precision: 0.8208308815956116\n",
    "### Recall: 0.7887200117111206\n",
    "### F1: 0.8044551014900208"
   ]
  },
  {
   "cell_type": "markdown",
   "metadata": {},
   "source": [
    "### Experiments (5 points)\n",
    "\n",
    "Experiment with the model and achieve better results. Implement and describe your experiments in details, mention what was helpful."
   ]
  },
  {
   "cell_type": "markdown",
   "metadata": {},
   "source": [
    "\n",
    "### 1. Num filters, emb_size tuning (was helpful)\n",
    "#### Accuracy: 0.8519600033760071\n",
    "#### Precision: 0.8536291122436523\n",
    "#### Recall: 0.8496000170707703\n",
    "#### F1: 0.8516097664833069\n",
    "<img src=\"./img/t4_exp1.png\">\n",
    "\n",
    "### 2. Data preprocessing + tuning params (was helpful)\n",
    "#### Accuracy: 0.876039981842041\n",
    "#### Precision: 0.8713755011558533\n",
    "#### Recall: 0.882319986820221\n",
    "#### F1: 0.8768135905265808\n",
    "\n",
    "### 3. Pretrained Vectors (was helpful)\n",
    "#### Accuracy: 0.8926799893379211\n",
    "#### Precision: 0.9207887053489685\n",
    "#### Recall: 0.859279990196228\n",
    "#### F1: 0.8889716863632202"
   ]
  },
  {
   "cell_type": "markdown",
   "metadata": {
    "pycharm": {
     "name": "#%% md\n"
    }
   },
   "source": [
    "## Experiment 1"
   ]
  },
  {
   "cell_type": "code",
   "execution_count": 69,
   "metadata": {
    "pycharm": {
     "name": "#%%\n"
    }
   },
   "outputs": [
    {
     "name": "stderr",
     "output_type": "stream",
     "text": [
      "[I 2020-03-30 19:53:39,908] Using an existing study with name 'task4_num_filters' instead of creating a new one.\n"
     ]
    }
   ],
   "source": [
    "import optuna\n",
    "from optuna.samplers import TPESampler\n",
    "\n",
    "sampler = TPESampler(seed=const.SEED)\n",
    "study = optuna.create_study(study_name='task4_num_filters', storage='sqlite:///./.data/optuna_task4.db', load_if_exists=True)"
   ]
  },
  {
   "cell_type": "code",
   "execution_count": 70,
   "metadata": {
    "pycharm": {
     "name": "#%%\n"
    }
   },
   "outputs": [],
   "source": [
    "from assignment import pipeline as rhl_pipeline"
   ]
  },
  {
   "cell_type": "code",
   "execution_count": null,
   "metadata": {
    "pycharm": {
     "name": "#%%\n"
    }
   },
   "outputs": [],
   "source": [
    "def objective_tune1(trial):\n",
    "    tb_writer = SummaryWriter(f'runs/task4/optuna/tune1{trial.number}')\n",
    "    init_random_seed()\n",
    "    criterion = nn.BCEWithLogitsLoss().cuda()\n",
    "\n",
    "    num_filters = trial.suggest_int('num_filters', 3, 100)\n",
    "    emb_dim = trial.suggest_int('emb_dim', 100, 200)\n",
    "\n",
    "    model = CNN(\n",
    "        emb_dim = emb_dim,\n",
    "        num_filters = num_filters,\n",
    "        vocab_size = len(TEXT.vocab),\n",
    "        kernel_sizes = [3, 4, 5],\n",
    "    )\n",
    "\n",
    "    best_val_loss, _ = rhl_pipeline.train_eval_loop(\n",
    "        debug=False,\n",
    "        model=model,\n",
    "        criterion=criterion,\n",
    "        epoch_n=50,\n",
    "        early_stopping_patience=3,\n",
    "        dataset_train=train_iter,\n",
    "        dataset_val=val_iter,\n",
    "        dataloader=lambda batches, *args, **kvargs: batches,\n",
    "        shuffle_train=False,\n",
    "        writer=tb_writer,\n",
    "    )\n",
    "\n",
    "    tb_writer.add_hparams({'num_filters': num_filters, 'emb_dim': emb_dim}, {'hparam/val_loss': best_val_loss})\n",
    "\n",
    "    tb_writer.close()\n",
    "    return best_val_loss"
   ]
  },
  {
   "cell_type": "code",
   "execution_count": 65,
   "metadata": {
    "pycharm": {
     "name": "#%%\n"
    }
   },
   "outputs": [
    {
     "name": "stderr",
     "output_type": "stream",
     "text": [
      "[I 2020-03-29 22:21:52,323] Finished trial#4 resulted in value: 0.3989503326810012. Current best value is 0.3989503326810012 with parameters: {'emb_dim': 102, 'num_filters': 12}.\n",
      "[I 2020-03-29 22:23:35,633] Finished trial#5 resulted in value: 0.36334138212062544. Current best value is 0.36334138212062544 with parameters: {'emb_dim': 111, 'num_filters': 48}.\n",
      "[I 2020-03-29 22:26:47,649] Finished trial#6 resulted in value: 0.3422600854251344. Current best value is 0.3422600854251344 with parameters: {'emb_dim': 171, 'num_filters': 95}.\n",
      "[I 2020-03-29 22:28:40,251] Finished trial#7 resulted in value: 0.3605074766328779. Current best value is 0.3422600854251344 with parameters: {'emb_dim': 171, 'num_filters': 95}.\n",
      "[I 2020-03-29 22:31:07,926] Finished trial#8 resulted in value: 0.33438343516850877. Current best value is 0.33438343516850877 with parameters: {'emb_dim': 123, 'num_filters': 80}.\n",
      "[I 2020-03-29 22:33:22,105] Finished trial#9 resulted in value: 0.34816334068270055. Current best value is 0.33438343516850877 with parameters: {'emb_dim': 123, 'num_filters': 80}.\n",
      "[I 2020-03-29 22:35:29,296] Finished trial#10 resulted in value: 0.3892292438422219. Current best value is 0.33438343516850877 with parameters: {'emb_dim': 123, 'num_filters': 80}.\n",
      "[I 2020-03-29 22:37:28,386] Finished trial#11 resulted in value: 0.4618112169584985. Current best value is 0.33438343516850877 with parameters: {'emb_dim': 123, 'num_filters': 80}.\n",
      "[I 2020-03-29 22:39:24,531] Finished trial#12 resulted in value: 0.38253590262542336. Current best value is 0.33438343516850877 with parameters: {'emb_dim': 123, 'num_filters': 80}.\n",
      "[I 2020-03-29 22:42:08,479] Finished trial#13 resulted in value: 0.333069981533592. Current best value is 0.333069981533592 with parameters: {'emb_dim': 173, 'num_filters': 63}.\n",
      "[I 2020-03-29 22:44:16,521] Finished trial#14 resulted in value: 0.3637122569952981. Current best value is 0.333069981533592 with parameters: {'emb_dim': 173, 'num_filters': 63}.\n",
      "[I 2020-03-29 22:47:30,027] Finished trial#15 resulted in value: 0.34748724747007176. Current best value is 0.333069981533592 with parameters: {'emb_dim': 173, 'num_filters': 63}.\n",
      "[I 2020-03-29 22:49:50,147] Finished trial#16 resulted in value: 0.35544838680554247. Current best value is 0.333069981533592 with parameters: {'emb_dim': 173, 'num_filters': 63}.\n",
      "[I 2020-03-29 22:52:52,875] Finished trial#17 resulted in value: 0.3375006459527097. Current best value is 0.333069981533592 with parameters: {'emb_dim': 173, 'num_filters': 63}.\n",
      "[I 2020-03-29 22:55:44,150] Finished trial#18 resulted in value: 0.33821225242089414. Current best value is 0.333069981533592 with parameters: {'emb_dim': 173, 'num_filters': 63}.\n",
      "[I 2020-03-29 22:58:21,736] Finished trial#19 resulted in value: 0.3350822352251764. Current best value is 0.333069981533592 with parameters: {'emb_dim': 173, 'num_filters': 63}.\n",
      "[I 2020-03-29 23:01:09,118] Finished trial#20 resulted in value: 0.34813923376091455. Current best value is 0.333069981533592 with parameters: {'emb_dim': 173, 'num_filters': 63}.\n",
      "[I 2020-03-29 23:03:35,472] Finished trial#21 resulted in value: 0.34650515613414473. Current best value is 0.333069981533592 with parameters: {'emb_dim': 173, 'num_filters': 63}.\n",
      "[I 2020-03-29 23:06:22,028] Finished trial#22 resulted in value: 0.34221789089299864. Current best value is 0.333069981533592 with parameters: {'emb_dim': 173, 'num_filters': 63}.\n",
      "[I 2020-03-29 23:09:15,591] Finished trial#23 resulted in value: 0.338263022697578. Current best value is 0.333069981533592 with parameters: {'emb_dim': 173, 'num_filters': 63}.\n"
     ]
    }
   ],
   "source": [
    "study.optimize(objective_tune1, n_trials=20, n_jobs=1)"
   ]
  },
  {
   "cell_type": "code",
   "execution_count": 66,
   "metadata": {
    "pycharm": {
     "name": "#%%\n"
    }
   },
   "outputs": [
    {
     "data": {
      "text/plain": [
       "({'emb_dim': 173, 'num_filters': 63}, 0.333069981533592)"
      ]
     },
     "execution_count": 66,
     "metadata": {},
     "output_type": "execute_result"
    }
   ],
   "source": [
    "study.best_params, study.best_value\n",
    "# ({'emb_dim': 173, 'num_filters': 63}, 0.333069981533592)"
   ]
  },
  {
   "cell_type": "markdown",
   "metadata": {
    "pycharm": {
     "name": "#%% md\n"
    }
   },
   "source": [
    "### Model with good params"
   ]
  },
  {
   "cell_type": "code",
   "execution_count": 67,
   "metadata": {
    "pycharm": {
     "name": "#%%\n"
    }
   },
   "outputs": [
    {
     "name": "stdout",
     "output_type": "stream",
     "text": [
      "Accuracy: 0.8519600033760071, Precision: 0.8536291122436523, Recall: 0.8496000170707703, F1: 0.8516097664833069\n"
     ]
    }
   ],
   "source": [
    "tb_writer = SummaryWriter(f'runs/task4/optuna/baseline_tuned')\n",
    "init_random_seed()\n",
    "criterion = nn.BCEWithLogitsLoss().cuda()\n",
    "\n",
    "num_filters = 173\n",
    "emb_dim = 63\n",
    "\n",
    "model = CNN(\n",
    "    emb_dim = emb_dim,\n",
    "    num_filters = num_filters,\n",
    "    vocab_size = len(TEXT.vocab),\n",
    "    kernel_sizes = [3, 4, 5],\n",
    ")\n",
    "\n",
    "best_val_loss, model = rhl_pipeline.train_eval_loop(\n",
    "    debug=False,\n",
    "    model=model,\n",
    "    criterion=criterion,\n",
    "    epoch_n=50,\n",
    "    early_stopping_patience=3,\n",
    "    dataset_train=train_iter,\n",
    "    dataset_val=val_iter,\n",
    "    dataloader=lambda batches, *args, **kvargs: batches,\n",
    "    shuffle_train=False,\n",
    "    writer=tb_writer,\n",
    ")\n",
    "tb_writer.close()\n",
    "model_performance_calculator(model, test_iter)"
   ]
  },
  {
   "cell_type": "markdown",
   "metadata": {
    "pycharm": {
     "name": "#%% md\n"
    }
   },
   "source": [
    "## Experiment 2"
   ]
  },
  {
   "cell_type": "code",
   "execution_count": 89,
   "metadata": {
    "pycharm": {
     "name": "#%%\n"
    }
   },
   "outputs": [
    {
     "name": "stdout",
     "output_type": "stream",
     "text": [
      "movie\n",
      "goers\n",
      "-\n",
      "avoid\n",
      "watching\n",
      "this\n",
      "movie.\n",
      "if\n",
      "you\n",
      "are\n",
      "faint\n",
      "hearted,\n",
      "you\n",
      "might\n",
      "want\n",
      "to\n",
      "commit\n",
      "suicide.\n",
      "if\n",
      "you\n",
      "are\n",
      "a\n",
      "short\n",
      "tempered,\n",
      "you\n",
      "would\n",
      "want\n",
      "to\n",
      "kill\n",
      "the\n",
      "lead\n",
      "performer\n",
      "of\n",
      "the\n",
      "movie.<br\n",
      "/><br\n",
      "/>though\n",
      "he\n",
      "does\n",
      "not\n",
      "have\n",
      "any\n",
      "talent\n",
      "in\n",
      "acting,\n",
      "he\n",
      "is\n",
      "the\n",
      "mass\n",
      "hero\n",
      "for\n",
      "all\n",
      "the\n",
      "rickshaw\n",
      "pullers,auto\n",
      "rickshaw\n",
      "drivers,\n",
      "rowdies,\n",
      "thugs\n",
      "and\n",
      "immature\n",
      "and\n",
      "ignorant\n",
      "literates.<br\n",
      "/><br\n",
      "/>he\n",
      "proves\n",
      "-\n",
      "you\n",
      "do\n",
      "not\n",
      "need\n",
      "neither\n",
      "talent\n",
      "nor\n",
      "knowledge\n",
      "to\n",
      "be\n",
      "successfully.<br\n",
      "/><br\n",
      "/>he\n",
      "is\n",
      "the\n",
      "highest\n",
      "paid\n",
      "actor\n",
      "in\n",
      "india.\n",
      "that\n",
      "shows\n",
      "the\n",
      "taste\n",
      "of\n",
      "movie\n",
      "going\n",
      "public\n",
      "in\n",
      "india.\n",
      "90%\n",
      "of\n",
      "movie\n",
      "goers\n",
      "in\n",
      "tamil\n",
      "nadu\n",
      "are\n",
      "definitely\n",
      "attracted\n",
      "to\n",
      "his\n",
      "kind\n",
      "of\n",
      "nonsense\n",
      "movies.\n"
     ]
    }
   ],
   "source": [
    "for w in trn.examples[100].text:\n",
    "    print(w)\n",
    "# <br />, dashes, dots and commas concatenated"
   ]
  },
  {
   "cell_type": "code",
   "execution_count": 3,
   "metadata": {
    "pycharm": {
     "name": "#%%\n"
    }
   },
   "outputs": [
    {
     "data": {
      "text/plain": [
       "['You',\n",
       " 'can',\n",
       " 'now',\n",
       " 'install',\n",
       " 'TorchText',\n",
       " ',',\n",
       " 'using',\n",
       " '.',\n",
       " '    ',\n",
       " 'U.S.',\n",
       " 'pip',\n",
       " '!',\n",
       " 'wow',\n",
       " '.']"
      ]
     },
     "execution_count": 3,
     "metadata": {},
     "output_type": "execute_result"
    }
   ],
   "source": [
    "from torchtext.data import get_tokenizer\n",
    "from bs4 import BeautifulSoup\n",
    "\n",
    "tokenizer_spacy = get_tokenizer('spacy')\n",
    "def tokenizer(data):\n",
    "    html = BeautifulSoup(data, 'lxml')\n",
    "    data = html.get_text(separator=' ', strip=True)\n",
    "    return tokenizer_spacy(data)\n",
    "# tokenizer(\"You <b>can</b> now install<br />     TorchText, using.     U.S. pip! wow.\")"
   ]
  },
  {
   "cell_type": "code",
   "execution_count": 48,
   "metadata": {
    "pycharm": {
     "name": "#%%\n"
    }
   },
   "outputs": [],
   "source": [
    "TEXT_EXP1 = Field(sequential=True, lower=True, batch_first=True, tokenize=tokenizer)\n",
    "LABEL = LabelField(batch_first=True, dtype=torch.float)"
   ]
  },
  {
   "cell_type": "code",
   "execution_count": 49,
   "metadata": {
    "pycharm": {
     "name": "#%%\n"
    }
   },
   "outputs": [],
   "source": [
    "train_exp1, tst_exp1 = datasets.IMDB.splits(TEXT_EXP1, LABEL)\n",
    "trn_exp1, vld_exp1 = train_exp1.split(random_state=random.seed(const.SEED))\n"
   ]
  },
  {
   "cell_type": "code",
   "execution_count": 50,
   "metadata": {
    "pycharm": {
     "name": "#%%\n"
    }
   },
   "outputs": [
    {
     "name": "stdout",
     "output_type": "stream",
     "text": [
      "movie\n",
      "goers\n",
      "-\n",
      "avoid\n",
      "watching\n",
      "this\n",
      "movie\n",
      ".\n",
      "if\n",
      "you\n",
      "are\n",
      "faint\n",
      "hearted\n",
      ",\n",
      "you\n",
      "might\n",
      "want\n",
      "to\n",
      "commit\n",
      "suicide\n",
      ".\n",
      "if\n",
      "you\n",
      "are\n",
      "a\n",
      "short\n",
      "tempered\n",
      ",\n",
      "you\n",
      "would\n",
      "want\n",
      "to\n",
      "kill\n",
      "the\n",
      "lead\n",
      "performer\n",
      "of\n",
      "the\n",
      "movie\n",
      ".\n",
      "though\n",
      "he\n",
      "does\n",
      "not\n",
      "have\n",
      "any\n",
      "talent\n",
      "in\n",
      "acting\n",
      ",\n",
      "he\n",
      "is\n",
      "the\n",
      "mass\n",
      "hero\n",
      "for\n",
      "all\n",
      "the\n",
      "rickshaw\n",
      "pullers\n",
      ",\n",
      "auto\n",
      "rickshaw\n",
      "drivers\n",
      ",\n",
      "rowdies\n",
      ",\n",
      "thugs\n",
      "and\n",
      "immature\n",
      "and\n",
      "ignorant\n",
      "literates\n",
      ".\n",
      "he\n",
      "proves\n",
      "-\n",
      "you\n",
      "do\n",
      "not\n",
      "need\n",
      "neither\n",
      "talent\n",
      "nor\n",
      "knowledge\n",
      "to\n",
      "be\n",
      "successfully\n",
      ".\n",
      "he\n",
      "is\n",
      "the\n",
      "highest\n",
      "paid\n",
      "actor\n",
      "in\n",
      "india\n",
      ".\n",
      "that\n",
      "shows\n",
      "the\n",
      "taste\n",
      "of\n",
      "movie\n",
      "going\n",
      "public\n",
      "in\n",
      "india\n",
      ".\n",
      "90\n",
      "%\n",
      "of\n",
      "movie\n",
      "goers\n",
      "in\n",
      "tamil\n",
      "nadu\n",
      "are\n",
      "definitely\n",
      "attracted\n",
      "to\n",
      "his\n",
      "kind\n",
      "of\n",
      "nonsense\n",
      "movies\n",
      ".\n"
     ]
    }
   ],
   "source": [
    "for w in trn_exp1.examples[100].text:\n",
    "    print(w)"
   ]
  },
  {
   "cell_type": "code",
   "execution_count": 51,
   "metadata": {
    "pycharm": {
     "name": "#%%\n"
    }
   },
   "outputs": [],
   "source": [
    "# %%time\n",
    "TEXT_EXP1.build_vocab(trn_exp1, min_freq=5)"
   ]
  },
  {
   "cell_type": "code",
   "execution_count": 61,
   "metadata": {
    "pycharm": {
     "name": "#%%\n"
    }
   },
   "outputs": [],
   "source": [
    "init_random_seed()\n",
    "train_iter_exp1, val_iter_exp1, test_iter_exp1 = Iterator.splits(\n",
    "        (trn_exp1, vld_exp1, tst_exp1),\n",
    "        batch_sizes=(64, 64, 64),\n",
    "        device='cuda',\n",
    "        repeat=False,\n",
    ")"
   ]
  },
  {
   "cell_type": "code",
   "execution_count": 67,
   "metadata": {
    "pycharm": {
     "name": "#%%\n"
    }
   },
   "outputs": [],
   "source": [
    "def objective_tune2(trial):\n",
    "    tb_writer = SummaryWriter(f'runs/task4/optuna/tune2{trial.number}')\n",
    "    init_random_seed()\n",
    "    criterion = nn.BCEWithLogitsLoss().cuda()\n",
    "\n",
    "    num_filters = trial.suggest_int('num_filters', 3, 100)\n",
    "    emb_dim = trial.suggest_int('emb_dim', 100, 200)\n",
    "\n",
    "    model = CNN(\n",
    "        emb_dim = emb_dim,\n",
    "        num_filters = num_filters,\n",
    "        vocab_size = len(TEXT_EXP1.vocab),\n",
    "        kernel_sizes = [3, 4, 5],\n",
    "    )\n",
    "\n",
    "    best_val_loss, _ = rhl_pipeline.train_eval_loop(\n",
    "        debug=False,\n",
    "        model=model,\n",
    "        criterion=criterion,\n",
    "        epoch_n=50,\n",
    "        early_stopping_patience=3,\n",
    "        dataset_train=train_iter_exp1,\n",
    "        dataset_val=val_iter_exp1,\n",
    "        dataloader=lambda batches, *args, **kvargs: batches,\n",
    "        shuffle_train=False,\n",
    "        writer=tb_writer,\n",
    "    )\n",
    "\n",
    "    tb_writer.add_hparams({'num_filters': num_filters, 'emb_dim': emb_dim}, {'hparam/val_loss': best_val_loss})\n",
    "\n",
    "    tb_writer.close()\n",
    "    return best_val_loss"
   ]
  },
  {
   "cell_type": "code",
   "execution_count": 71,
   "metadata": {
    "pycharm": {
     "name": "#%%\n"
    }
   },
   "outputs": [
    {
     "name": "stderr",
     "output_type": "stream",
     "text": [
      "[I 2020-03-30 19:54:14,796] A new study created with name: task4_good_tokens_num_filters\n",
      "[I 2020-03-30 19:55:50,605] Finished trial#0 resulted in value: 0.3440254074915991. Current best value is 0.3440254074915991 with parameters: {'emb_dim': 127, 'num_filters': 10}.\n",
      "[I 2020-03-30 19:58:29,117] Finished trial#1 resulted in value: 0.2931196922594208. Current best value is 0.2931196922594208 with parameters: {'emb_dim': 178, 'num_filters': 73}.\n",
      "[I 2020-03-30 20:00:00,053] Finished trial#2 resulted in value: 0.361936456192348. Current best value is 0.2931196922594208 with parameters: {'emb_dim': 178, 'num_filters': 73}.\n",
      "[I 2020-03-30 20:02:03,908] Finished trial#3 resulted in value: 0.2964454198224565. Current best value is 0.2931196922594208 with parameters: {'emb_dim': 178, 'num_filters': 73}.\n",
      "[I 2020-03-30 20:04:06,664] Finished trial#4 resulted in value: 0.29675595790652903. Current best value is 0.2931196922594208 with parameters: {'emb_dim': 178, 'num_filters': 73}.\n",
      "[I 2020-03-30 20:05:59,154] Finished trial#5 resulted in value: 0.2979865741552943. Current best value is 0.2931196922594208 with parameters: {'emb_dim': 178, 'num_filters': 73}.\n",
      "[I 2020-03-30 20:07:45,520] Finished trial#6 resulted in value: 0.3002260187167232. Current best value is 0.2931196922594208 with parameters: {'emb_dim': 178, 'num_filters': 73}.\n",
      "[I 2020-03-30 20:09:51,123] Finished trial#7 resulted in value: 0.292718695571362. Current best value is 0.292718695571362 with parameters: {'emb_dim': 158, 'num_filters': 60}.\n",
      "[I 2020-03-30 20:11:46,071] Finished trial#8 resulted in value: 0.291022226719533. Current best value is 0.291022226719533 with parameters: {'emb_dim': 140, 'num_filters': 55}.\n",
      "[I 2020-03-30 20:14:11,915] Finished trial#9 resulted in value: 0.2835893494597936. Current best value is 0.2835893494597936 with parameters: {'emb_dim': 175, 'num_filters': 98}.\n",
      "[I 2020-03-30 20:17:03,112] Finished trial#10 resulted in value: 0.2887419415479999. Current best value is 0.2835893494597936 with parameters: {'emb_dim': 175, 'num_filters': 98}.\n",
      "[I 2020-03-30 20:19:56,024] Finished trial#11 resulted in value: 0.2871643836467953. Current best value is 0.2835893494597936 with parameters: {'emb_dim': 175, 'num_filters': 98}.\n",
      "[I 2020-03-30 20:22:25,965] Finished trial#12 resulted in value: 0.28669703903339677. Current best value is 0.2835893494597936 with parameters: {'emb_dim': 175, 'num_filters': 98}.\n",
      "[I 2020-03-30 20:25:10,610] Finished trial#13 resulted in value: 0.2867711580405801. Current best value is 0.2835893494597936 with parameters: {'emb_dim': 175, 'num_filters': 98}.\n",
      "[I 2020-03-30 20:28:14,397] Finished trial#14 resulted in value: 0.296532413401341. Current best value is 0.2835893494597936 with parameters: {'emb_dim': 175, 'num_filters': 98}.\n",
      "[I 2020-03-30 20:31:08,225] Finished trial#15 resulted in value: 0.28712754519814154. Current best value is 0.2835893494597936 with parameters: {'emb_dim': 175, 'num_filters': 98}.\n",
      "[I 2020-03-30 20:33:49,415] Finished trial#16 resulted in value: 0.29452368593380107. Current best value is 0.2835893494597936 with parameters: {'emb_dim': 175, 'num_filters': 98}.\n",
      "[I 2020-03-30 20:36:17,585] Finished trial#17 resulted in value: 0.2931205433304027. Current best value is 0.2835893494597936 with parameters: {'emb_dim': 175, 'num_filters': 98}.\n",
      "[I 2020-03-30 20:38:22,051] Finished trial#18 resulted in value: 0.2946961774033005. Current best value is 0.2835893494597936 with parameters: {'emb_dim': 175, 'num_filters': 98}.\n",
      "[I 2020-03-30 20:40:37,369] Finished trial#19 resulted in value: 0.28981530098086694. Current best value is 0.2835893494597936 with parameters: {'emb_dim': 175, 'num_filters': 98}.\n"
     ]
    }
   ],
   "source": [
    "study = optuna.create_study(study_name='task4_good_tokens_num_filters', storage='sqlite:///./.data/optuna_task4.db', load_if_exists=True)\n",
    "study.optimize(objective_tune2, n_trials=20, n_jobs=1)"
   ]
  },
  {
   "cell_type": "code",
   "execution_count": 72,
   "metadata": {
    "pycharm": {
     "name": "#%%\n"
    }
   },
   "outputs": [
    {
     "data": {
      "text/plain": [
       "({'emb_dim': 175, 'num_filters': 98}, 0.2835893494597936)"
      ]
     },
     "execution_count": 72,
     "metadata": {},
     "output_type": "execute_result"
    }
   ],
   "source": [
    "study.best_params, study.best_value"
   ]
  },
  {
   "cell_type": "markdown",
   "metadata": {
    "pycharm": {
     "name": "#%% md\n"
    }
   },
   "source": [
    "### Model with good params"
   ]
  },
  {
   "cell_type": "code",
   "execution_count": null,
   "metadata": {
    "pycharm": {
     "name": "#%%\n"
    }
   },
   "outputs": [],
   "source": [
    "tb_writer = SummaryWriter(f'runs/task4/optuna/prprsd_data_tuned_voc')\n",
    "init_random_seed()\n",
    "criterion = nn.BCEWithLogitsLoss().cuda()\n",
    "\n",
    "num_filters = 175\n",
    "emb_dim = 98\n",
    "\n",
    "model = CNN(\n",
    "    emb_dim = emb_dim,\n",
    "    num_filters = num_filters,\n",
    "    vocab_size = len(TEXT_EXP1.vocab),\n",
    "    kernel_sizes = [3, 4, 5],\n",
    ")\n",
    "\n",
    "best_val_loss, model = rhl_pipeline.train_eval_loop(\n",
    "    debug=True,\n",
    "    model=model,\n",
    "    criterion=criterion,\n",
    "    epoch_n=50,\n",
    "    early_stopping_patience=3,\n",
    "    dataset_train=train_iter_exp1,\n",
    "    dataset_val=val_iter_exp1,\n",
    "    dataloader=lambda batches, *args, **kvargs: batches,\n",
    "    shuffle_train=False,\n",
    "    writer=tb_writer,\n",
    ")\n",
    "tb_writer.close()\n",
    "model_performance_calculator(model, test_iter_exp1)"
   ]
  },
  {
   "cell_type": "markdown",
   "metadata": {},
   "source": [
    "## Experiment 3"
   ]
  },
  {
   "cell_type": "code",
   "execution_count": 74,
   "metadata": {
    "pycharm": {
     "name": "#%%\n"
    }
   },
   "outputs": [],
   "source": [
    "from torchtext.data import get_tokenizer\n",
    "# from torchtext.vocab import Vectors\n",
    "from bs4 import BeautifulSoup\n",
    "\n",
    "tokenizer_spacy = get_tokenizer('spacy')\n",
    "def tokenizer(data):\n",
    "    html = BeautifulSoup(data, 'lxml')\n",
    "    data = html.get_text(separator=' ', strip=True)\n",
    "    return tokenizer_spacy(data)"
   ]
  },
  {
   "cell_type": "code",
   "execution_count": 75,
   "metadata": {
    "pycharm": {
     "name": "#%%\n"
    }
   },
   "outputs": [],
   "source": [
    "TEXT_EXP2 = Field(sequential=True, lower=True, batch_first=True, tokenize=tokenizer)\n",
    "# LABEL = LabelField(batch_first=True, dtype=torch.float, )"
   ]
  },
  {
   "cell_type": "code",
   "execution_count": 76,
   "metadata": {
    "pycharm": {
     "name": "#%%\n"
    }
   },
   "outputs": [],
   "source": [
    "train_exp2, tst_exp2 = datasets.IMDB.splits(TEXT_EXP2, LABEL)\n",
    "trn_exp2, vld_exp2 = train_exp2.split(random_state=random.seed(const.SEED))\n"
   ]
  },
  {
   "cell_type": "code",
   "execution_count": null,
   "metadata": {
    "pycharm": {
     "name": "#%%\n"
    }
   },
   "outputs": [],
   "source": [
    "# vectors = Vectors('glove.42B.300d', cache='./Downloads/')"
   ]
  },
  {
   "cell_type": "code",
   "execution_count": 88,
   "metadata": {
    "pycharm": {
     "name": "#%%\n"
    }
   },
   "outputs": [],
   "source": [
    "# %%time\n",
    "TEXT_EXP2.build_vocab(trn_exp2, min_freq=5, vectors='glove.6B.100d')"
   ]
  },
  {
   "cell_type": "code",
   "execution_count": 92,
   "metadata": {
    "pycharm": {
     "name": "#%%\n"
    }
   },
   "outputs": [],
   "source": [
    "# LABEL.build_vocab(trn_exp2)"
   ]
  },
  {
   "cell_type": "code",
   "execution_count": 89,
   "metadata": {
    "pycharm": {
     "name": "#%%\n"
    }
   },
   "outputs": [],
   "source": [
    "init_random_seed()\n",
    "train_iter_exp2, val_iter_exp2, test_iter_exp2 = Iterator.splits(\n",
    "        (trn_exp2, vld_exp2, tst_exp2),\n",
    "        batch_sizes=(64, 64, 64),\n",
    "        device='cuda',\n",
    "        repeat=False,\n",
    ")"
   ]
  },
  {
   "cell_type": "code",
   "execution_count": 93,
   "metadata": {
    "pycharm": {
     "name": "#%%\n"
    }
   },
   "outputs": [
    {
     "data": {
      "text/plain": [
       "\n",
       "[torchtext.data.batch.Batch of size 64]\n",
       "\t[.text]:[torch.cuda.LongTensor of size 64x942 (GPU 0)]\n",
       "\t[.label]:[torch.cuda.FloatTensor of size 64 (GPU 0)]"
      ]
     },
     "execution_count": 93,
     "metadata": {},
     "output_type": "execute_result"
    }
   ],
   "source": [
    "# next(train_iter_exp2.__iter__())"
   ]
  },
  {
   "cell_type": "markdown",
   "metadata": {},
   "source": [
    "### Model with good params"
   ]
  },
  {
   "cell_type": "code",
   "execution_count": 95,
   "metadata": {
    "pycharm": {
     "name": "#%%\n"
    }
   },
   "outputs": [
    {
     "name": "stdout",
     "output_type": "stream",
     "text": [
      "****************************\n",
      "Epoch 0 started. 30.03.2020 21:38:23\n",
      "Iterations: 274\n",
      "Duration: 2.1e+01 sec\n",
      "Average train loss: 0.4309492244990203\n",
      "++++++++++++++++++++++++++++\n",
      "Average validation loss: 0.29550115625231954\n",
      ">>> New Best Model <<<\n",
      "****************************\n",
      "****************************\n",
      "Epoch 1 started. 30.03.2020 21:38:45\n",
      "Iterations: 274\n",
      "Duration: 2.1e+01 sec\n",
      "Average train loss: 0.22189119885111377\n",
      "++++++++++++++++++++++++++++\n",
      "Average validation loss: 0.26702298337625247\n",
      ">>> New Best Model <<<\n",
      "****************************\n",
      "****************************\n",
      "Epoch 2 started. 30.03.2020 21:39:08\n",
      "Iterations: 274\n",
      "Duration: 2.1e+01 sec\n",
      "Average train loss: 0.12372838259830962\n",
      "++++++++++++++++++++++++++++\n",
      "Average validation loss: 0.2617381684545238\n",
      ">>> New Best Model <<<\n",
      "****************************\n",
      "****************************\n",
      "Epoch 3 started. 30.03.2020 21:39:30\n",
      "Iterations: 274\n",
      "Duration: 2.1e+01 sec\n",
      "Average train loss: 0.05141570655982534\n",
      "++++++++++++++++++++++++++++\n",
      "Average validation loss: 0.2661100768057977\n",
      "****************************\n",
      "****************************\n",
      "Epoch 4 started. 30.03.2020 21:39:53\n",
      "Iterations: 274\n",
      "Duration: 2.1e+01 sec\n",
      "Average train loss: 0.01669685934316775\n",
      "++++++++++++++++++++++++++++\n",
      "Average validation loss: 0.2921260090197547\n",
      "****************************\n",
      "****************************\n",
      "Epoch 5 started. 30.03.2020 21:40:15\n",
      "Iterations: 274\n",
      "Duration: 2.1e+01 sec\n",
      "Average train loss: 0.006124273305384945\n",
      "++++++++++++++++++++++++++++\n",
      "Average validation loss: 0.31667241724050144\n",
      "****************************\n",
      "****************************\n",
      "Epoch 6 started. 30.03.2020 21:40:38\n",
      "Iterations: 274\n",
      "Duration: 2.1e+01 sec\n",
      "Average train loss: 0.003050118773567225\n",
      "++++++++++++++++++++++++++++\n",
      "Average validation loss: 0.3359291456260924\n",
      "No model improvement in last 3. Let's stop it\n",
      "Accuracy: 0.8926799893379211, Precision: 0.9207887053489685, Recall: 0.859279990196228, F1: 0.8889716863632202\n"
     ]
    }
   ],
   "source": [
    "tb_writer = SummaryWriter(f'runs/task4/optuna/prprsd_data_glove')\n",
    "init_random_seed()\n",
    "criterion = nn.BCEWithLogitsLoss().cuda()\n",
    "\n",
    "num_filters = 175\n",
    "emb_dim = 100\n",
    "\n",
    "model = CNN(\n",
    "    emb_dim = emb_dim,\n",
    "    num_filters = num_filters,\n",
    "    vocab_size = len(TEXT_EXP2.vocab),\n",
    "    kernel_sizes = [3, 4, 5],\n",
    ")\n",
    "\n",
    "model.emb.weight.data = TEXT_EXP2.vocab.vectors\n",
    "\n",
    "_, model_g = rhl_pipeline.train_eval_loop(\n",
    "    debug=True,\n",
    "    model=model,\n",
    "    criterion=criterion,\n",
    "    epoch_n=50,\n",
    "    early_stopping_patience=3,\n",
    "    dataset_train=train_iter_exp2,\n",
    "    dataset_val=val_iter_exp2,\n",
    "    dataloader=lambda batches, *args, **kvargs: batches,\n",
    "    shuffle_train=False,\n",
    "    writer=tb_writer,\n",
    ")\n",
    "tb_writer.close()\n",
    "model_performance_calculator(model_g, test_iter_exp2)"
   ]
  }
 ],
 "metadata": {
  "kernelspec": {
   "display_name": "Python 3",
   "language": "python",
   "name": "python3"
  },
  "language_info": {
   "codemirror_mode": {
    "name": "ipython",
    "version": 3
   },
   "file_extension": ".py",
   "mimetype": "text/x-python",
   "name": "python",
   "nbconvert_exporter": "python",
   "pygments_lexer": "ipython3",
   "version": "3.7.6"
  }
 },
 "nbformat": 4,
 "nbformat_minor": 4
}
