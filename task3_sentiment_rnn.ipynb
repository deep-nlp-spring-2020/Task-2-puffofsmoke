{
 "cells": [
  {
   "cell_type": "markdown",
   "metadata": {
    "colab_type": "text",
    "id": "Afsked8GjgSU"
   },
   "source": [
    "### Some extra imports"
   ]
  },
  {
   "cell_type": "code",
   "execution_count": 9,
   "metadata": {
    "colab": {
     "base_uri": "https://localhost:8080/",
     "height": 51
    },
    "colab_type": "code",
    "id": "EWJeauJOjgSV",
    "outputId": "1380fafc-2c76-47d9-bdf0-4acb59cc9243",
    "pycharm": {
     "name": "#%%\n"
    }
   },
   "outputs": [],
   "source": [
    "import matplotlib.pyplot as plt\n",
    "%matplotlib inline\n",
    "from IPython.core.display import clear_output\n",
    "from assignment.util import binary_accuracy\n",
    "from assignment import const\n",
    "import optuna\n",
    "import random\n",
    "from assignment.pipeline import init_random_seed\n",
    "from torch.utils.tensorboard import SummaryWriter\n",
    "\n",
    "%load_ext autoreload\n",
    "%autoreload 2"
   ]
  },
  {
   "cell_type": "markdown",
   "metadata": {
    "colab_type": "text",
    "id": "oEQ8BKDUjgSY"
   },
   "source": [
    "## Assignment 2.3: Text classification via RNN (30 points)"
   ]
  },
  {
   "cell_type": "markdown",
   "metadata": {
    "colab_type": "text",
    "id": "m9s__neSjgSZ"
   },
   "source": [
    "In this assignment you will perform sentiment analysis of the IMDBs reviews by using RNN. An additional goal is to learn high abstactions of the **torchtext** module that consists of data processing utilities and popular datasets for natural language.\n",
    " "
   ]
  },
  {
   "cell_type": "code",
   "execution_count": 10,
   "metadata": {
    "colab": {},
    "colab_type": "code",
    "id": "mCcpon8tjgSZ"
   },
   "outputs": [],
   "source": [
    "\n",
    "\n",
    "import torch\n",
    "\n",
    "from torchtext import datasets\n",
    "\n",
    "from torchtext.data import Field, LabelField\n",
    "from torchtext.data import BucketIterator\n",
    "\n",
    "import torch.nn as nn\n",
    "import torch.optim as optim"
   ]
  },
  {
   "cell_type": "markdown",
   "metadata": {
    "colab_type": "text",
    "id": "R7NoEIkXjgSc",
    "pycharm": {
     "name": "#%% md\n"
    }
   },
   "source": [
    "### Preparing Data"
   ]
  },
  {
   "cell_type": "code",
   "execution_count": 11,
   "metadata": {
    "colab": {},
    "colab_type": "code",
    "id": "GSq1reC5jgSc",
    "pycharm": {
     "name": "#%%\n"
    }
   },
   "outputs": [],
   "source": [
    "TEXT = Field(sequential=True, lower=True)\n",
    "LABEL = LabelField(dtype=torch.float)"
   ]
  },
  {
   "cell_type": "code",
   "execution_count": 12,
   "metadata": {
    "colab": {},
    "colab_type": "code",
    "id": "lTDKe8L4jgSe"
   },
   "outputs": [],
   "source": [
    "train, tst = datasets.IMDB.splits(TEXT, LABEL)\n",
    "trn, vld = train.split(random_state=random.seed(const.SEED))"
   ]
  },
  {
   "cell_type": "code",
   "execution_count": 13,
   "metadata": {
    "colab": {
     "base_uri": "https://localhost:8080/",
     "height": 54
    },
    "colab_type": "code",
    "id": "7uE-OCBgjgSh",
    "outputId": "d0f89a9a-9e5a-4d41-f20f-0ad9b459a176",
    "pycharm": {
     "name": "#%%\n"
    }
   },
   "outputs": [
    {
     "name": "stdout",
     "output_type": "stream",
     "text": [
      "{'text': ['according', 'to', 'john', \"ford's\", 'lyrically', 'shot,', 'fictional', 'biopic', 'of', 'abraham', \"lincoln's\", 'life', 'his', 'greatest', 'faults', 'may', 'have', 'been', 'an', 'obtuseness', 'with', 'woman', 'and', 'an', 'ability', 'to', 'dance', 'in', '\"the', 'worst', 'way.\"', \"ford's\", 'camera', 'has', 'only', 'praising', 'views', 'to', 'reveal', 'of', 'mr.', \"lincoln's\", 'early', 'life.', 'but', 'for', 'what', 'the', 'film', 'lacks', 'in', 'character', 'complexities', 'it', 'makes', 'up', 'for', 'in', 'beauty', 'and', 'depth', 'of', 'vision.', 'uncharacteristically', 'beautiful', 'compositions', 'of', 'early', 'film,', 'what', 'could', 'have', 'been', 'a', 'series', 'of', 'gorgeous', 'still', 'frames,', 'ford', 'has', 'a', 'unique', 'eye', 'for', 'telling', 'a', 'story.', 'the', 'film', 'sings', 'of', 'the', 'life', 'of', 'a', 'hopeful', 'young', 'man.', 'henry', 'fonda', 'plays', 'the', 'contemplative', 'and', 'spontaneously', 'clever', 'lincoln', 'to', 'a', 'tee,', 'one', 'of', 'his', 'best', 'roles.<br', '/><br', '/>the', 'film', 'concerns', 'two', 'young', 'men,', 'brothers,', 'on', 'trial', 'for', 'a', 'murder', 'that', 'both', 'claim', 'to', 'have', 'committed.', 'in', 'classic', 'angry', 'mob', 'style,', 'the', 'town', 'decides', 'to', 'take', 'justice', 'into', 'their', 'own', 'hands', 'and', 'lynch', 'the', 'pair', 'of', 'them,', 'until', 'honest', 'abe', 'steps', 'into', 'the', 'fray.', 'he', 'charms', 'them', 'with', 'his', 'humor,', 'telling', 'them', 'not', 'to', 'rob', 'him', 'of', 'his', 'first', 'big', 'case,', 'and', 'that', 'they', 'are', 'as', 'good', 'as', 'lynched', 'with', 'him', 'as', 'the', 'boys', 'lawyer.', 'what', 'follows', 'seems', 'to', 'become', 'the', 'outline', 'for', 'all', 'courtroom-', 'murder-dramas', 'thereafter,', 'as', 'abe', 'cunningly', 'interrogates', 'witnesses', 'to', 'the', 'delight', 'and', 'humor', 'of', 'the', 'judge,', 'jury', 'and', 'town', 'before', 'he', 'stumbles', 'upon', 'the', 'missing', 'links.<br', '/><br', '/>the', 'film', 'plays', 'out', 'like', 'many', 'john', 'ford', 'movies', 'do:', 'a', 'tablespoon', 'of', 'americana,', 'a', 'dash', 'of', 'moderate', 'predictability,', 'a', 'hint', 'of', 'sarcasm', 'that', 'you', \"aren't\", 'sure', 'if', 'you', 'put', 'in', 'the', 'recipe', 'or', 'if', 'ford', 'did', 'it', 'himself.', 'despite', 'the', 'overtly', \"'hollywood'\", 'feel', 'of', 'the', 'film,', 'and', 'overly', 'patriotic', 'banter', 'alluding', 'to', \"lincoln's\", 'future', 'presidency,', 'the', 'film', 'is', 'entirely', 'enjoyable', 'and', 'enjoyably', 'well', 'constructed,', 'if', 'you', 'can', 'take', 'your', 'drama', 'with', 'a', 'grain', 'of', 'salt.'], 'label': 'pos'}\n"
     ]
    }
   ],
   "source": [
    "print(vars(trn.examples[0]))"
   ]
  },
  {
   "cell_type": "code",
   "execution_count": 14,
   "metadata": {
    "colab": {
     "base_uri": "https://localhost:8080/",
     "height": 51
    },
    "colab_type": "code",
    "id": "swQQPUPkjgSk",
    "outputId": "7fcb3ba1-eb7c-4632-b8a5-1b0de5ef33c7",
    "pycharm": {
     "name": "#%%\n"
    }
   },
   "outputs": [
    {
     "name": "stdout",
     "output_type": "stream",
     "text": [
      "Wall time: 1.43 s\n"
     ]
    }
   ],
   "source": [
    "%%time\n",
    "TEXT.build_vocab(trn)"
   ]
  },
  {
   "cell_type": "code",
   "execution_count": 15,
   "metadata": {
    "colab": {},
    "colab_type": "code",
    "id": "MPJyFJekjgSm"
   },
   "outputs": [],
   "source": [
    "LABEL.build_vocab(trn)"
   ]
  },
  {
   "cell_type": "markdown",
   "metadata": {
    "colab_type": "text",
    "id": "c6-yRCEhjgSp",
    "pycharm": {
     "name": "#%% md\n"
    }
   },
   "source": [
    "The vocab.freqs is a collections.Counter object, so we can take a look at the most frequent words."
   ]
  },
  {
   "cell_type": "code",
   "execution_count": 16,
   "metadata": {
    "colab": {
     "base_uri": "https://localhost:8080/",
     "height": 187
    },
    "colab_type": "code",
    "id": "j1yLdZcOjgSp",
    "outputId": "572d97b9-3647-41b8-f061-655070be877f",
    "pycharm": {
     "name": "#%%\n"
    }
   },
   "outputs": [
    {
     "data": {
      "text/plain": [
       "[('the', 224964),\n",
       " ('a', 111121),\n",
       " ('and', 110521),\n",
       " ('of', 100961),\n",
       " ('to', 93541),\n",
       " ('is', 72924),\n",
       " ('in', 63004),\n",
       " ('i', 49283),\n",
       " ('this', 48759),\n",
       " ('that', 46362)]"
      ]
     },
     "execution_count": 16,
     "metadata": {},
     "output_type": "execute_result"
    }
   ],
   "source": [
    "TEXT.vocab.freqs.most_common(10)"
   ]
  },
  {
   "cell_type": "code",
   "execution_count": 17,
   "metadata": {
    "colab": {
     "base_uri": "https://localhost:8080/",
     "height": 34
    },
    "colab_type": "code",
    "id": "Qy9-qozYjgSt",
    "outputId": "dee2d25e-008a-4628-814a-edafc7995b9e",
    "pycharm": {
     "name": "#%%\n"
    }
   },
   "outputs": [
    {
     "data": {
      "text/plain": [
       "(201009,)"
      ]
     },
     "execution_count": 17,
     "metadata": {},
     "output_type": "execute_result"
    }
   ],
   "source": [
    "len(TEXT.vocab),\n"
   ]
  },
  {
   "cell_type": "markdown",
   "metadata": {
    "colab_type": "text",
    "id": "_JQQGXSgjgSv",
    "pycharm": {
     "name": "#%% md\n"
    }
   },
   "source": [
    "## Let's check is dataset balanced or not"
   ]
  },
  {
   "cell_type": "code",
   "execution_count": 18,
   "metadata": {
    "colab": {
     "base_uri": "https://localhost:8080/",
     "height": 34
    },
    "colab_type": "code",
    "id": "rHlXV-u3jgSw",
    "outputId": "65da37da-0135-424b-e38e-ace9249d76d8",
    "pycharm": {
     "name": "#%%\n"
    }
   },
   "outputs": [
    {
     "data": {
      "text/plain": [
       "Counter({'pos': 8807, 'neg': 8693})"
      ]
     },
     "execution_count": 18,
     "metadata": {},
     "output_type": "execute_result"
    }
   ],
   "source": [
    "LABEL.vocab.freqs"
   ]
  },
  {
   "cell_type": "markdown",
   "metadata": {
    "colab_type": "text",
    "id": "0RrcaaoojgSz",
    "pycharm": {
     "name": "#%% md\n"
    }
   },
   "source": [
    "- Dataset Balanced. We can use accuracy metric as well"
   ]
  },
  {
   "cell_type": "markdown",
   "metadata": {
    "colab_type": "text",
    "id": "I3syZEI-jgS0"
   },
   "source": [
    "### Creating the Iterator (2 points)"
   ]
  },
  {
   "cell_type": "markdown",
   "metadata": {
    "colab_type": "text",
    "id": "YRl1ixkWjgS0"
   },
   "source": [
    "During training, we'll be using a special kind of Iterator, called the **BucketIterator**. When we pass data into a neural network, we want the data to be padded to be the same length so that we can process them in batch:\n",
    "\n",
    "e.g.\n",
    "\\[ \n",
    "\\[3, 15, 2, 7\\],\n",
    "\\[4, 1\\], \n",
    "\\[5, 5, 6, 8, 1\\] \n",
    "\\] -> \\[ \n",
    "\\[3, 15, 2, 7, **0**\\],\n",
    "\\[4, 1, **0**, **0**, **0**\\], \n",
    "\\[5, 5, 6, 8, 1\\] \n",
    "\\] \n",
    "\n",
    "If the sequences differ greatly in length, the padding will consume a lot of wasteful memory and time. The BucketIterator groups sequences of similar lengths together for each batch to minimize padding.\n",
    "\n",
    "Complete the definition of the **BucketIterator** object"
   ]
  },
  {
   "cell_type": "code",
   "execution_count": 19,
   "metadata": {
    "colab": {},
    "colab_type": "code",
    "id": "zAVrpZxnjgS0",
    "pycharm": {
     "name": "#%%\n"
    }
   },
   "outputs": [],
   "source": [
    "train_iter, val_iter, test_iter = BucketIterator.splits(\n",
    "        (trn, vld, tst),\n",
    "        batch_sizes=(64, 64, 64),\n",
    "        sort=True,\n",
    "        sort_key=lambda x: len(x.text),# write your code here\n",
    "        sort_within_batch=False,\n",
    "        device='cuda',\n",
    "        repeat=False,\n",
    ")"
   ]
  },
  {
   "cell_type": "markdown",
   "metadata": {
    "colab_type": "text",
    "id": "aI33LR4YjgS2",
    "pycharm": {
     "name": "#%% md\n"
    }
   },
   "source": [
    "Let's take a look at what the output of the BucketIterator looks like. Do not be suprised **batch_first=True**"
   ]
  },
  {
   "cell_type": "code",
   "execution_count": 20,
   "metadata": {
    "colab": {
     "base_uri": "https://localhost:8080/",
     "height": 153
    },
    "colab_type": "code",
    "id": "uB7r9r69jgS3",
    "outputId": "494ee3ee-935f-4dff-fa78-4bebdbfd7631",
    "pycharm": {
     "name": "#%%\n"
    }
   },
   "outputs": [
    {
     "data": {
      "text/plain": [
       "tensor([[   10,     9, 40719,  ..., 43616,     9,  1161],\n",
       "        [   20,   511,     2,  ...,     7,  1045,    34],\n",
       "        [    7,   836, 22119,  ...,     3,    17,  4161],\n",
       "        ...,\n",
       "        [    1,     1,     1,  ...,   134,   765,  2647],\n",
       "        [    1,     1,     1,  ...,  5627,   112,    11],\n",
       "        [    1,     1,     1,  ...,     1,     1,   796]], device='cuda:0')"
      ]
     },
     "execution_count": 20,
     "metadata": {},
     "output_type": "execute_result"
    }
   ],
   "source": [
    "batch = next(train_iter.__iter__()); batch.text"
   ]
  },
  {
   "cell_type": "markdown",
   "metadata": {
    "colab_type": "text",
    "id": "_ixkK9WRjgS5",
    "pycharm": {
     "name": "#%% md\n"
    }
   },
   "source": [
    "The batch has all the fields we passed to the Dataset as attributes. The batch data can be accessed through the attribute with the same name."
   ]
  },
  {
   "cell_type": "code",
   "execution_count": 21,
   "metadata": {
    "colab": {
     "base_uri": "https://localhost:8080/",
     "height": 34
    },
    "colab_type": "code",
    "id": "-1_CWhdFjgS5",
    "outputId": "00e99dfd-be18-4990-df31-e1ca6da065b8",
    "pycharm": {
     "name": "#%%\n"
    }
   },
   "outputs": [
    {
     "data": {
      "text/plain": [
       "dict_keys(['batch_size', 'dataset', 'fields', 'input_fields', 'target_fields', 'text', 'label'])"
      ]
     },
     "execution_count": 21,
     "metadata": {},
     "output_type": "execute_result"
    }
   ],
   "source": [
    "batch.__dict__.keys()"
   ]
  },
  {
   "cell_type": "markdown",
   "metadata": {
    "colab_type": "text",
    "id": "HfoTPngsjgS8",
    "pycharm": {
     "name": "#%% md\n"
    }
   },
   "source": [
    "### Define the RNN-based text classification model (10 points)"
   ]
  },
  {
   "cell_type": "markdown",
   "metadata": {
    "colab_type": "text",
    "id": "blv8PXJdjgS8"
   },
   "source": [
    "Start simple first. Implement the model according to the shema below.  \n",
    "![alt text](https://miro.medium.com/max/1396/1*v-tLYQCsni550A-hznS0mw.jpeg)\n"
   ]
  },
  {
   "cell_type": "code",
   "execution_count": 22,
   "metadata": {
    "colab": {},
    "colab_type": "code",
    "id": "UmoFRnG3jgS8",
    "pycharm": {
     "name": "#%%\n"
    }
   },
   "outputs": [],
   "source": [
    "from assignment.model import RNNBaseline"
   ]
  },
  {
   "cell_type": "code",
   "execution_count": 23,
   "metadata": {
    "colab": {
     "base_uri": "https://localhost:8080/",
     "height": 102
    },
    "colab_type": "code",
    "id": "RpSf9lAZjgS_",
    "outputId": "5aa28866-79f5-4420-8a6c-6a54ebe750a7"
   },
   "outputs": [
    {
     "data": {
      "text/plain": [
       "RNNBaseline(\n",
       "  (emb): Embedding(201009, 200, padding_idx=1)\n",
       "  (rnn): GRU(200, 300)\n",
       "  (out): Linear(in_features=300, out_features=1, bias=True)\n",
       ")"
      ]
     },
     "execution_count": 23,
     "metadata": {},
     "output_type": "execute_result"
    }
   ],
   "source": [
    "em_sz = 200\n",
    "nh = 300\n",
    "\n",
    "\n",
    "vocab_size = len(TEXT.vocab)\n",
    "model = RNNBaseline(hidden_dim=nh, emb_dim=em_sz, vocab_size=vocab_size); model"
   ]
  },
  {
   "cell_type": "markdown",
   "metadata": {
    "colab_type": "text",
    "id": "GIFlyszKjgTB",
    "pycharm": {
     "name": "#%% md\n"
    }
   },
   "source": [
    "If you're using a GPU, remember to call model.cuda() to move your model to the GPU."
   ]
  },
  {
   "cell_type": "code",
   "execution_count": 24,
   "metadata": {
    "colab": {
     "base_uri": "https://localhost:8080/",
     "height": 102
    },
    "colab_type": "code",
    "id": "WIpS73u1jgTB",
    "outputId": "0f143e8e-6047-4864-bed0-a8c624aa02ea",
    "pycharm": {
     "name": "#%%\n"
    }
   },
   "outputs": [
    {
     "data": {
      "text/plain": [
       "RNNBaseline(\n",
       "  (emb): Embedding(201009, 200, padding_idx=1)\n",
       "  (rnn): GRU(200, 300)\n",
       "  (out): Linear(in_features=300, out_features=1, bias=True)\n",
       ")"
      ]
     },
     "execution_count": 24,
     "metadata": {},
     "output_type": "execute_result"
    }
   ],
   "source": [
    "model.cuda()"
   ]
  },
  {
   "cell_type": "markdown",
   "metadata": {
    "colab_type": "text",
    "id": "T0H2pefYjgTE",
    "pycharm": {
     "name": "#%% md\n"
    }
   },
   "source": [
    "### The training loop (3 points)"
   ]
  },
  {
   "cell_type": "markdown",
   "metadata": {
    "colab_type": "text",
    "id": "6djMNtWfjgTE"
   },
   "source": [
    "Define the optimization and the loss functions."
   ]
  },
  {
   "cell_type": "code",
   "execution_count": 25,
   "metadata": {
    "colab": {},
    "colab_type": "code",
    "id": "8tC7EcyJjgTE",
    "pycharm": {
     "name": "#%%\n"
    }
   },
   "outputs": [],
   "source": [
    "opt = optim.Adam(params=model.parameters(), lr=1e-3)\n",
    "loss_func = nn.BCEWithLogitsLoss().cuda()"
   ]
  },
  {
   "cell_type": "markdown",
   "metadata": {
    "colab_type": "text",
    "id": "7EjAPCOqjgTG",
    "pycharm": {
     "name": "#%% md\n"
    }
   },
   "source": [
    "Define the stopping criteria."
   ]
  },
  {
   "cell_type": "code",
   "execution_count": 26,
   "metadata": {
    "colab": {},
    "colab_type": "code",
    "id": "7q3jCvRTjgTG",
    "pycharm": {
     "name": "#%%\n"
    }
   },
   "outputs": [],
   "source": [
    "epochs = 3"
   ]
  },
  {
   "cell_type": "code",
   "execution_count": 27,
   "metadata": {
    "colab": {},
    "colab_type": "code",
    "id": "ajOdb791jgTI",
    "pycharm": {
     "name": "#%%\n"
    }
   },
   "outputs": [],
   "source": [
    "# tb_writer.add_graph(model, batch.text)\n",
    "# tb_writer.flush()"
   ]
  },
  {
   "cell_type": "code",
   "execution_count": 28,
   "metadata": {
    "colab": {
     "base_uri": "https://localhost:8080/",
     "height": 51
    },
    "colab_type": "code",
    "id": "y3wVDbdXjgTK",
    "outputId": "1a8167ac-aa16-4b89-86af-ead7ca7af005",
    "pycharm": {
     "name": "#%%\n"
    }
   },
   "outputs": [
    {
     "data": {
      "image/png": "[encoded data removed]",
      "text/plain": [
       "<Figure size 432x288 with 1 Axes>"
      ]
     },
     "metadata": {
      "needs_background": "light"
     },
     "output_type": "display_data"
    },
    {
     "name": "stdout",
     "output_type": "stream",
     "text": [
      "Epoch: 3, Training Loss: 0.2384117673946558, Validation Loss: 0.4334267776901439, Accuracy: 0.8055261373519897\n",
      "Wall time: 1min 14s\n"
     ]
    }
   ],
   "source": [
    "%%time\n",
    "\n",
    "tb_writer = SummaryWriter('runs/task3/general')\n",
    "init_random_seed()\n",
    "history = []\n",
    "for epoch in range(1, epochs + 1):\n",
    "    running_loss = 0.0\n",
    "    running_corrects = 0\n",
    "    model.train()\n",
    "    for id_batch, batch in enumerate(train_iter):\n",
    "\n",
    "        x = batch.text\n",
    "        y = batch.label\n",
    "\n",
    "        opt.zero_grad()\n",
    "        preds, _ = model(x)\n",
    "        loss = loss_func(preds, y)\n",
    "        loss.backward()\n",
    "        opt.step()\n",
    "        running_loss += loss.item()\n",
    "\n",
    "        tb_writer.add_scalar('Loss/Train', loss.item(), epoch * len(train_iter) + id_batch)\n",
    "\n",
    "\n",
    "        # visualizing training process\n",
    "        history.append(loss.item())\n",
    "        i = 0\n",
    "        if (id_batch + 1) % 10 == 0:\n",
    "            i+=1\n",
    "            clear_output(True)\n",
    "            plt.plot(history, label='Loss')\n",
    "            plt.show()\n",
    "            # tb_writer.add_scalar('Loss/Train', running_loss / (10 * i), epoch * len(train_iter) + id_batch)\n",
    "        # print(loss.item())\n",
    "\n",
    "    epoch_loss = running_loss / len(train_iter)\n",
    "\n",
    "    val_loss = 0.0\n",
    "    val_acc = 0.0\n",
    "    model.eval()\n",
    "    for batch in val_iter:\n",
    "\n",
    "        x = batch.text\n",
    "        y = batch.label\n",
    "\n",
    "        preds, _ = model(x)\n",
    "        loss = loss_func(preds, y)\n",
    "        val_loss += loss.item()\n",
    "\n",
    "        val_acc += binary_accuracy(preds, y)\n",
    "\n",
    "    val_loss /= len(val_iter)\n",
    "    val_acc /= len(val_iter)\n",
    "    tb_writer.add_scalar('Loss/Valid', val_loss, (1 + epoch) * len(train_iter))\n",
    "    tb_writer.add_scalar('Accuracy/Valid', val_acc, (1 + epoch) * len(train_iter))\n",
    "    print('Epoch: {}, Training Loss: {}, Validation Loss: {}, Accuracy: {}'.format(epoch, epoch_loss, val_loss, val_acc))\n",
    "tb_writer.close()\n"
   ]
  },
  {
   "cell_type": "markdown",
   "metadata": {
    "colab_type": "text",
    "id": "Qmh_6SOJjgTM",
    "pycharm": {
     "name": "#%% md\n"
    }
   },
   "source": [
    "### Calculate performance of the trained model (5 points)"
   ]
  },
  {
   "cell_type": "code",
   "execution_count": 31,
   "metadata": {
    "colab": {},
    "colab_type": "code",
    "id": "JeAjIs-ejgTM",
    "pycharm": {
     "name": "#%%\n"
    }
   },
   "outputs": [
    {
     "name": "stdout",
     "output_type": "stream",
     "text": [
      "Accuracy: 0.8457599878311157, Precision: 0.8822072744369507, Recall: 0.7980800271034241, F1: 0.8380376100540161\n"
     ]
    }
   ],
   "source": [
    "from assignment.pipeline import model_performance_calculator\n",
    "\n",
    "model_performance_calculator(model, test_iter)\n",
    "# Accuracy: 0.8457599878311157, Precision: 0.8822072744369507, Recall: 0.7980800271034241, F1: 0.8380376100540161"
   ]
  },
  {
   "cell_type": "markdown",
   "metadata": {
    "colab_type": "text",
    "id": "aHMDl_3_jgTP",
    "pycharm": {
     "name": "#%% md\n"
    }
   },
   "source": [
    "Write down the calculated performance\n",
    "\n",
    "### Accuracy: 0.8457599878311157\n",
    "### Precision: 0.8822072744369507\n",
    "### Recall: 0.7980800271034241\n",
    "### F1: 0.8380376100540161"
   ]
  },
  {
   "cell_type": "markdown",
   "metadata": {
    "colab_type": "text",
    "id": "sagHnJfyjgTQ",
    "pycharm": {
     "name": "#%% md\n"
    }
   },
   "source": [
    "### Experiments (10 points)\n",
    "\n",
    "Experiment with the model and achieve better results. You can find advices [here](https://arxiv.org/abs/1801.06146). Implement and describe your experiments in details, mention what was helpful."
   ]
  },
  {
   "cell_type": "markdown",
   "metadata": {
    "colab_type": "text",
    "id": "Ow8damY1jgTQ",
    "pycharm": {
     "name": "#%% md\n"
    }
   },
   "source": [
    "### 1. Hyperparameter search for baseline\n",
    "#### Hidden state and Embeddings dimension adjusted (helpful)\n",
    "- Accuracy: 0.8466399908065796\n",
    "- Precision: 0.8304606676101685\n",
    "- Recall: 0.8711199760437012\n",
    "- F1: 0.8503045439720154\n",
    "#### Validation loss with different and selected parameters\n",
    "<img src=\"./img/t3_exp1.png\">\n",
    "\n",
    "### 2. Finetuning\n",
    "#### Froze encoder, train linear layer decoder (helpful, metric depend)\n",
    "- Accuracy: 0.8488799929618835\n",
    "- Precision: 0.8508447408676147\n",
    "- Recall: 0.8460800051689148\n",
    "- F1: 0.8484557271003723\n",
    "\n",
    "Accuracy slight improved, F1 slight decrease.\n",
    "Probably possible to achieve much better results with full \"Target task classifier fine-tuning\" from 1801.06146.pdf via more advanced classifier implementation\n",
    "#### Validation loss during \"finetuning\"\n",
    "<img src=\"./img/t3_exp2.svg\">\n",
    "\n",
    "### 3. Bidirectional model (helpful)\n",
    "####  Different environment used(colab)\n",
    "#### Baseline (one direction) with tuned parameters then\n",
    "- Accuracy: 0.841759979724884\n",
    "- Precision: 0.8598382472991943\n",
    "- Recall: 0.8166400194168091\n",
    "- F1: 0.8376825451850891\n",
    "#### Bidirectional + max pooling for hidden\n",
    "- Accuracy: 0.8443999886512756\n",
    "- Precision: 0.8950991034507751\n",
    "- Recall: 0.780239999294281\n",
    "- F1: 0.8337323069572449\n",
    "#### Bidirectional + average pooling for hidden\n",
    "- Accuracy: 0.8457199931144714\n",
    "- Precision: 0.8557083010673523\n",
    "- Recall: 0.8316799998283386\n",
    "- F1: 0.8435230255126953\n",
    "\n"
   ]
  },
  {
   "cell_type": "markdown",
   "metadata": {
    "colab_type": "text",
    "id": "qUbomWtKjgTR"
   },
   "source": [
    "# Let's go\n",
    "- I will start with hyperparameter search for baseline model"
   ]
  },
  {
   "cell_type": "code",
   "execution_count": 32,
   "metadata": {
    "colab": {},
    "colab_type": "code",
    "id": "2zj6ANQdjgTS",
    "pycharm": {
     "name": "#%%\n"
    }
   },
   "outputs": [],
   "source": [
    "from assignment import pipeline as rhl_pipeline\n",
    "def objective_baseline(trial):\n",
    "    tb_writer = SummaryWriter(f'runs/task3/optuna/baseline{trial.number}')\n",
    "    init_random_seed()\n",
    "    criterion = nn.BCEWithLogitsLoss().cuda()\n",
    "\n",
    "    hidden_dim = trial.suggest_int('hidden_dim', 100, 300)\n",
    "    emb_dim = trial.suggest_int('emb_dim', 100, 200)\n",
    "\n",
    "    model = RNNBaseline(\n",
    "        hidden_dim=hidden_dim,\n",
    "        emb_dim = emb_dim,\n",
    "        vocab_size = len(TEXT.vocab),\n",
    "    )\n",
    "\n",
    "    best_val_loss, _ = rhl_pipeline.train_eval_loop(\n",
    "        debug=False,\n",
    "        model=model,\n",
    "        criterion=criterion,\n",
    "        epoch_n=50,\n",
    "        early_stopping_patience=3,\n",
    "        dataset_train=train_iter,\n",
    "        dataset_val=val_iter,\n",
    "        dataloader=lambda batches, *args, **kvargs: batches,\n",
    "        shuffle_train=False,\n",
    "        writer=tb_writer,\n",
    "    )\n",
    "\n",
    "    tb_writer.add_hparams({'hidden_dim': hidden_dim, 'emb_dim': emb_dim}, {'hparam/val_loss': best_val_loss})\n",
    "\n",
    "    tb_writer.close()\n",
    "    return best_val_loss"
   ]
  },
  {
   "cell_type": "code",
   "execution_count": 33,
   "metadata": {
    "colab": {
     "base_uri": "https://localhost:8080/",
     "height": 34
    },
    "colab_type": "code",
    "id": "dZnKO2JEjgTU",
    "outputId": "9298bc9b-50df-4cd3-e171-dc8c73b95e93",
    "pycharm": {
     "name": "#%%\n"
    }
   },
   "outputs": [
    {
     "name": "stderr",
     "output_type": "stream",
     "text": [
      "[I 2020-03-29 18:53:05,712] Using an existing study with name 'task3_baseline' instead of creating a new one.\n"
     ]
    }
   ],
   "source": [
    "from optuna.samplers import TPESampler\n",
    "\n",
    "sampler = TPESampler(seed=const.SEED)\n",
    "study = optuna.create_study(study_name='task3_baseline', storage='sqlite:///./.data/optuna_task3.db', load_if_exists=True)"
   ]
  },
  {
   "cell_type": "code",
   "execution_count": 0,
   "metadata": {
    "colab": {},
    "colab_type": "code",
    "id": "tGb1pksrjgTW",
    "pycharm": {
     "name": "#%%\n"
    }
   },
   "outputs": [],
   "source": [
    "# del model"
   ]
  },
  {
   "cell_type": "code",
   "execution_count": 34,
   "metadata": {
    "colab": {},
    "colab_type": "code",
    "id": "D15XFrPejgTY",
    "pycharm": {
     "name": "#%%\n"
    }
   },
   "outputs": [],
   "source": [
    "# Uncomment next line to run some experiments\n",
    "# study.optimize(objective_baseline, n_trials=17, n_jobs=1)"
   ]
  },
  {
   "cell_type": "code",
   "execution_count": 1,
   "metadata": {
    "colab": {
     "base_uri": "https://localhost:8080/",
     "height": 559
    },
    "colab_type": "code",
    "id": "6zBSw5mRjgTZ",
    "outputId": "6573ebfd-f512-4ed3-dcd9-91d63ee1230d",
    "pycharm": {
     "name": "#%%\n"
    }
   },
   "outputs": [],
   "source": [
    "optuna.visualization.plot_parallel_coordinate(study)"
   ]
  },
  {
   "cell_type": "code",
   "execution_count": 0,
   "metadata": {
    "colab": {},
    "colab_type": "code",
    "id": "l4ahZbUEjgTb",
    "pycharm": {
     "name": "#%%\n"
    }
   },
   "outputs": [],
   "source": [
    "study.best_params, study.best_value"
   ]
  },
  {
   "cell_type": "markdown",
   "metadata": {
    "colab_type": "text",
    "id": "V_ACHasZjgTd",
    "pycharm": {
     "name": "#%% md\n"
    }
   },
   "source": [
    "### Fine tuned baseline"
   ]
  },
  {
   "cell_type": "code",
   "execution_count": 0,
   "metadata": {
    "colab": {},
    "colab_type": "code",
    "id": "tILcqwX2jgTe"
   },
   "outputs": [],
   "source": [
    "init_random_seed()\n",
    "criterion = nn.BCEWithLogitsLoss().cuda()\n",
    "\n",
    "model_fine_tuned_baseline = RNNBaseline(\n",
    "    hidden_dim=291,\n",
    "    emb_dim=114,\n",
    "    vocab_size=len(TEXT.vocab),\n",
    ")\n",
    "\n",
    "best_val_loss, model_fine_tuned_baseline = rhl_pipeline.train_eval_loop(\n",
    "    debug=True,\n",
    "    model=model_fine_tuned_baseline,\n",
    "    criterion=criterion,\n",
    "    epoch_n=50,\n",
    "    early_stopping_patience=3,\n",
    "    dataset_train=train_iter,\n",
    "    dataset_val=val_iter,\n",
    "    dataloader=lambda batches, *args, **kvargs: batches,\n",
    "    shuffle_train=False,\n",
    ")"
   ]
  },
  {
   "cell_type": "code",
   "execution_count": 0,
   "metadata": {
    "colab": {},
    "colab_type": "code",
    "id": "MIc9ZswBjgTg",
    "pycharm": {
     "name": "#%%\n"
    }
   },
   "outputs": [],
   "source": [
    "torch.save(model_fine_tuned_baseline.state_dict(), './model/task3baseline_bft')\n"
   ]
  },
  {
   "cell_type": "code",
   "execution_count": 0,
   "metadata": {
    "colab": {},
    "colab_type": "code",
    "id": "rKAeAkuvjgTi",
    "pycharm": {
     "name": "#%%\n"
    }
   },
   "outputs": [],
   "source": [
    "model_performance_calculator(model_fine_tuned_baseline, test_iter)"
   ]
  },
  {
   "cell_type": "code",
   "execution_count": 0,
   "metadata": {
    "colab": {},
    "colab_type": "code",
    "id": "0mQdeBuCjgTk",
    "pycharm": {
     "name": "#%%\n"
    }
   },
   "outputs": [],
   "source": [
    "best_val_loss"
   ]
  },
  {
   "cell_type": "markdown",
   "metadata": {
    "colab_type": "text",
    "id": "IBj0DuosjgTm",
    "pycharm": {
     "name": "#%% md\n"
    }
   },
   "source": [
    "### Let's froze embs with rnn and start to call last layer training \"FineTuning\""
   ]
  },
  {
   "cell_type": "code",
   "execution_count": 0,
   "metadata": {
    "colab": {},
    "colab_type": "code",
    "id": "Q8gR5O8jjgTm",
    "pycharm": {
     "name": "#%%\n"
    }
   },
   "outputs": [],
   "source": [
    "print(model_fine_tuned_baseline.parameters())\n",
    "\n",
    "for param in list(model_fine_tuned_baseline.parameters())[:-1]:\n",
    "    param.requires_grad = False\n",
    "\n",
    "params2train = filter(lambda p: p.requires_grad, model_fine_tuned_baseline.parameters())\n",
    "\n",
    "#Smaller lr then before\n",
    "optimizer = torch.optim.Adam(params2train, lr=1e-4)\n",
    "\n",
    "tb_writer = SummaryWriter(f'runs/task3/finetune/baseline')\n",
    "\n",
    "best_val_loss, model_fine_tuned_baseline = rhl_pipeline.train_eval_loop(\n",
    "    debug=True,\n",
    "    model=model_fine_tuned_baseline,\n",
    "    criterion=criterion,\n",
    "    epoch_n=50,\n",
    "    early_stopping_patience=5,\n",
    "    dataset_train=train_iter,\n",
    "    dataset_val=val_iter,\n",
    "    dataloader=lambda batches, *args, **kvargs: batches,\n",
    "    shuffle_train=False,\n",
    "    optimizer=optimizer,\n",
    "    writer=tb_writer\n",
    ")\n",
    "\n",
    "tb_writer.close()"
   ]
  },
  {
   "cell_type": "code",
   "execution_count": 0,
   "metadata": {
    "colab": {},
    "colab_type": "code",
    "id": "qTl0pc1XjgTo",
    "pycharm": {
     "name": "#%%\n"
    }
   },
   "outputs": [],
   "source": [
    "torch.save(model_fine_tuned_baseline.state_dict(), './model/task3baseline_ft')"
   ]
  },
  {
   "cell_type": "code",
   "execution_count": 0,
   "metadata": {
    "colab": {},
    "colab_type": "code",
    "id": "I2pyJG6IjgTq",
    "pycharm": {
     "name": "#%%\n"
    }
   },
   "outputs": [],
   "source": [
    "model_performance_calculator(model_fine_tuned_baseline, test_iter)"
   ]
  },
  {
   "cell_type": "markdown",
   "metadata": {
    "colab_type": "text",
    "id": "gadcyue_jgTs",
    "pycharm": {
     "name": "#%% md\n"
    }
   },
   "source": [
    "### Bidirectional Time\n",
    "#### Done on Google Colab"
   ]
  },
  {
   "cell_type": "code",
   "execution_count": null,
   "metadata": {
    "pycharm": {
     "name": "#%%\n"
    }
   },
   "outputs": [],
   "source": [
    "from assignment.model import RNNAdvanced\n",
    "\n",
    "for pooling in ['max', 'average']: # should get same result if bidirectional = False\n",
    "    for bidirectional in [True, False]:\n",
    "        init_random_seed()\n",
    "        criterion = nn.BCEWithLogitsLoss().cuda()\n",
    "        model_bd = RNNAdvanced(\n",
    "            hidden_dim=291,\n",
    "            emb_dim=114,\n",
    "            vocab_size=len(TEXT.vocab),\n",
    "            bidirectional=bidirectional,\n",
    "            pooling = pooling\n",
    "        )\n",
    "        \n",
    "        tb_writer = SummaryWriter(f'runs/task3/bidirectional/{bidirectional}_{pooling}')\n",
    "        \n",
    "        best_val_loss, model_bd = rhl_pipeline.train_eval_loop(\n",
    "            debug=True,\n",
    "            model=model_bd,\n",
    "            criterion=criterion,\n",
    "            epoch_n=50,\n",
    "            early_stopping_patience=3,\n",
    "            dataset_train=train_iter,\n",
    "            dataset_val=val_iter,\n",
    "            dataloader=lambda batches, *args, **kvargs: batches,\n",
    "            writer = tb_writer\n",
    "        )\n",
    "        \n",
    "        \n",
    "        tb_writer.close()\n",
    "        print(best_val_loss)\n",
    "        model_performance_calculator(model_bd, test_iter)"
   ]
  },
  {
   "cell_type": "raw",
   "metadata": {
    "pycharm": {
     "name": "#%% raw\n"
    }
   },
   "source": [
    "****************************\n",
    "Epoch 0 started. 29.03.2020 11:10:24\n",
    "Iterations: 274\n",
    "Duration: 2.2e+01 sec\n",
    "Average train loss: 0.6558964735400068\n",
    "++++++++++++++++++++++++++++\n",
    "Average validation loss: 0.6314393832521924\n",
    ">>> New Best Model <<<\n",
    "****************************\n",
    "****************************\n",
    "Epoch 1 started. 29.03.2020 11:10:48\n",
    "Iterations: 274\n",
    "Duration: 2.2e+01 sec\n",
    "Average train loss: 0.5653309595845911\n",
    "++++++++++++++++++++++++++++\n",
    "Average validation loss: 0.556297788428048\n",
    ">>> New Best Model <<<\n",
    "****************************\n",
    "****************************\n",
    "Epoch 2 started. 29.03.2020 11:11:13\n",
    "Iterations: 274\n",
    "Duration: 2.2e+01 sec\n",
    "Average train loss: 0.3319827849521254\n",
    "++++++++++++++++++++++++++++\n",
    "Average validation loss: 0.5680423123856723\n",
    "****************************\n",
    "****************************\n",
    "Epoch 3 started. 29.03.2020 11:11:38\n",
    "Iterations: 274\n",
    "Duration: 2.2e+01 sec\n",
    "Average train loss: 0.18374704089641136\n",
    "++++++++++++++++++++++++++++\n",
    "Average validation loss: 0.6562021912659629\n",
    "****************************\n",
    "****************************\n",
    "Epoch 4 started. 29.03.2020 11:12:03\n",
    "Iterations: 274\n",
    "Duration: 2.2e+01 sec\n",
    "Average train loss: 0.09371698129052011\n",
    "++++++++++++++++++++++++++++\n",
    "Average validation loss: 0.5709945366291677\n",
    "****************************\n",
    "****************************\n",
    "Epoch 5 started. 29.03.2020 11:12:28\n",
    "Iterations: 274\n",
    "Duration: 2.2e+01 sec\n",
    "Average train loss: 0.03528836848431804\n",
    "++++++++++++++++++++++++++++\n",
    "Average validation loss: 0.4276576564978745\n",
    ">>> New Best Model <<<\n",
    "****************************\n",
    "****************************\n",
    "Epoch 6 started. 29.03.2020 11:12:52\n",
    "Iterations: 274\n",
    "Duration: 2.2e+01 sec\n",
    "Average train loss: 0.017299694870981\n",
    "++++++++++++++++++++++++++++\n",
    "Average validation loss: 0.586281489012605\n",
    "****************************\n",
    "****************************\n",
    "Epoch 7 started. 29.03.2020 11:13:17\n",
    "Iterations: 274\n",
    "Duration: 2.2e+01 sec\n",
    "Average train loss: 0.011105508295743536\n",
    "++++++++++++++++++++++++++++\n",
    "Average validation loss: 0.6173318993868464\n",
    "****************************\n",
    "****************************\n",
    "Epoch 8 started. 29.03.2020 11:13:42\n",
    "Iterations: 274\n",
    "Duration: 2.2e+01 sec\n",
    "Average train loss: 0.005566061518304169\n",
    "++++++++++++++++++++++++++++\n",
    "Average validation loss: 0.6509575241450536\n",
    "****************************\n",
    "****************************\n",
    "Epoch 9 started. 29.03.2020 11:14:07\n",
    "Iterations: 274\n",
    "Duration: 2.2e+01 sec\n",
    "Average train loss: 0.0014544239350132318\n",
    "++++++++++++++++++++++++++++\n",
    "Average validation loss: 0.8808185613508952\n",
    "No model improvement in last 3. Let's stop it\n",
    "0.4276576564978745\n",
    "Accuracy: 0.8443999886512756, Precision: 0.8950991034507751, Recall: 0.780239999294281, F1: 0.8337323069572449\n",
    "****************************\n",
    "Epoch 0 started. 29.03.2020 11:14:39\n",
    "Iterations: 274\n",
    "Duration: 1.7e+01 sec\n",
    "Average train loss: 0.683455685846997\n",
    "++++++++++++++++++++++++++++\n",
    "Average validation loss: 0.6908327300669783\n",
    ">>> New Best Model <<<\n",
    "****************************\n",
    "****************************\n",
    "Epoch 1 started. 29.03.2020 11:14:59\n",
    "Iterations: 274\n",
    "Duration: 1.7e+01 sec\n",
    "Average train loss: 0.514429012898111\n",
    "++++++++++++++++++++++++++++\n",
    "Average validation loss: 0.4394515988937879\n",
    ">>> New Best Model <<<\n",
    "****************************\n",
    "****************************\n",
    "Epoch 2 started. 29.03.2020 11:15:18\n",
    "Iterations: 274\n",
    "Duration: 1.7e+01 sec\n",
    "Average train loss: 0.25734832227556376\n",
    "++++++++++++++++++++++++++++\n",
    "Average validation loss: 0.35876600065473785\n",
    ">>> New Best Model <<<\n",
    "****************************\n",
    "****************************\n",
    "Epoch 3 started. 29.03.2020 11:15:37\n",
    "Iterations: 274\n",
    "Duration: 1.7e+01 sec\n",
    "Average train loss: 0.1280214174269923\n",
    "++++++++++++++++++++++++++++\n",
    "Average validation loss: 0.3769996171280489\n",
    "****************************\n",
    "****************************\n",
    "Epoch 4 started. 29.03.2020 11:15:57\n",
    "Iterations: 274\n",
    "Duration: 1.7e+01 sec\n",
    "Average train loss: 0.05472141938593347\n",
    "++++++++++++++++++++++++++++\n",
    "Average validation loss: 0.4512449705625995\n",
    "****************************\n",
    "****************************\n",
    "Epoch 5 started. 29.03.2020 11:16:16\n",
    "Iterations: 274\n",
    "Duration: 1.7e+01 sec\n",
    "Average train loss: 0.030227482533439258\n",
    "++++++++++++++++++++++++++++\n",
    "Average validation loss: 0.8486425452313181\n",
    "****************************\n",
    "****************************\n",
    "Epoch 6 started. 29.03.2020 11:16:35\n",
    "Iterations: 274\n",
    "Duration: 1.7e+01 sec\n",
    "Average train loss: 0.024093513015018653\n",
    "++++++++++++++++++++++++++++\n",
    "Average validation loss: 0.6737358052346666\n",
    "No model improvement in last 3. Let's stop it\n",
    "0.35876600065473785\n",
    "Accuracy: 0.841759979724884, Precision: 0.8598382472991943, Recall: 0.8166400194168091, F1: 0.8376825451850891\n",
    "****************************\n",
    "Epoch 0 started. 29.03.2020 11:17:01\n",
    "Iterations: 274\n",
    "Duration: 2.2e+01 sec\n",
    "Average train loss: 0.6408152760815446\n",
    "++++++++++++++++++++++++++++\n",
    "Average validation loss: 0.5500640401900825\n",
    ">>> New Best Model <<<\n",
    "****************************\n",
    "****************************\n",
    "Epoch 1 started. 29.03.2020 11:17:25\n",
    "Iterations: 274\n",
    "Duration: 2.2e+01 sec\n",
    "Average train loss: 0.4364754291672776\n",
    "++++++++++++++++++++++++++++\n",
    "Average validation loss: 0.6075199415623131\n",
    "****************************\n",
    "****************************\n",
    "Epoch 2 started. 29.03.2020 11:17:50\n",
    "Iterations: 274\n",
    "Duration: 2.2e+01 sec\n",
    "Average train loss: 0.28593919475148194\n",
    "++++++++++++++++++++++++++++\n",
    "Average validation loss: 0.42041398597470786\n",
    ">>> New Best Model <<<\n",
    "****************************\n",
    "****************************\n",
    "Epoch 3 started. 29.03.2020 11:18:15\n",
    "Iterations: 274\n",
    "Duration: 2.2e+01 sec\n",
    "Average train loss: 0.14859723639640496\n",
    "++++++++++++++++++++++++++++\n",
    "Average validation loss: 0.41375129467855065\n",
    ">>> New Best Model <<<\n",
    "****************************\n",
    "****************************\n",
    "Epoch 4 started. 29.03.2020 11:18:40\n",
    "Iterations: 274\n",
    "Duration: 2.2e+01 sec\n",
    "Average train loss: 0.06882996868892798\n",
    "++++++++++++++++++++++++++++\n",
    "Average validation loss: 0.49586718895677795\n",
    "****************************\n",
    "****************************\n",
    "Epoch 5 started. 29.03.2020 11:19:05\n",
    "Iterations: 274\n",
    "Duration: 2.2e+01 sec\n",
    "Average train loss: 0.032671026920773984\n",
    "++++++++++++++++++++++++++++\n",
    "Average validation loss: 0.627922525850393\n",
    "****************************\n",
    "****************************\n",
    "Epoch 6 started. 29.03.2020 11:19:30\n",
    "Iterations: 274\n",
    "Duration: 2.2e+01 sec\n",
    "Average train loss: 0.018789500582718503\n",
    "++++++++++++++++++++++++++++\n",
    "Average validation loss: 0.5808164981209626\n",
    "****************************\n",
    "****************************\n",
    "Epoch 7 started. 29.03.2020 11:19:55\n",
    "Iterations: 274\n",
    "Duration: 2.2e+01 sec\n",
    "Average train loss: 0.008459757115038869\n",
    "++++++++++++++++++++++++++++\n",
    "Average validation loss: 0.8461217437002618\n",
    "No model improvement in last 3. Let's stop it\n",
    "0.41375129467855065\n",
    "Accuracy: 0.8457199931144714, Precision: 0.8557083010673523, Recall: 0.8316799998283386, F1: 0.8435230255126953\n",
    "****************************\n",
    "Epoch 0 started. 29.03.2020 11:20:28\n",
    "Iterations: 274\n",
    "Duration: 1.7e+01 sec\n",
    "Average train loss: 0.683455685846997\n",
    "++++++++++++++++++++++++++++\n",
    "Average validation loss: 0.6908327300669783\n",
    ">>> New Best Model <<<\n",
    "****************************\n",
    "****************************\n",
    "Epoch 1 started. 29.03.2020 11:20:47\n",
    "Iterations: 274\n",
    "Duration: 1.7e+01 sec\n",
    "Average train loss: 0.514429012898111\n",
    "++++++++++++++++++++++++++++\n",
    "Average validation loss: 0.4394515988937879\n",
    ">>> New Best Model <<<\n",
    "****************************\n",
    "****************************\n",
    "Epoch 2 started. 29.03.2020 11:21:07\n",
    "Iterations: 274\n",
    "Duration: 1.7e+01 sec\n",
    "Average train loss: 0.25734832227556376\n",
    "++++++++++++++++++++++++++++\n",
    "Average validation loss: 0.35876600065473785\n",
    ">>> New Best Model <<<\n",
    "****************************\n",
    "****************************\n",
    "Epoch 3 started. 29.03.2020 11:21:26\n",
    "Iterations: 274\n",
    "Duration: 1.7e+01 sec\n",
    "Average train loss: 0.1280214174269923\n",
    "++++++++++++++++++++++++++++\n",
    "Average validation loss: 0.3769996171280489\n",
    "****************************\n",
    "****************************\n",
    "Epoch 4 started. 29.03.2020 11:21:46\n",
    "Iterations: 274\n",
    "Duration: 1.7e+01 sec\n",
    "Average train loss: 0.05472141938593347\n",
    "++++++++++++++++++++++++++++\n",
    "Average validation loss: 0.4512449705625995\n",
    "****************************\n",
    "****************************\n",
    "Epoch 5 started. 29.03.2020 11:22:05\n",
    "Iterations: 274\n",
    "Duration: 1.7e+01 sec\n",
    "Average train loss: 0.030227482533439258\n",
    "++++++++++++++++++++++++++++\n",
    "Average validation loss: 0.8486425452313181\n",
    "****************************\n",
    "****************************\n",
    "Epoch 6 started. 29.03.2020 11:22:25\n",
    "Iterations: 274\n",
    "Duration: 1.7e+01 sec\n",
    "Average train loss: 0.024093513015018653\n",
    "++++++++++++++++++++++++++++\n",
    "Average validation loss: 0.6737358052346666\n",
    "No model improvement in last 3. Let's stop it\n",
    "0.35876600065473785\n",
    "Accuracy: 0.841759979724884, Precision: 0.8598382472991943, Recall: 0.8166400194168091, F1: 0.8376825451850891"
   ]
  }
 ],
 "metadata": {
  "accelerator": "GPU",
  "colab": {
   "collapsed_sections": [
    "Qmh_6SOJjgTM",
    "aHMDl_3_jgTP",
    "sagHnJfyjgTQ",
    "Ow8damY1jgTQ"
   ],
   "name": "task3_sentiment_rnn.ipynb",
   "provenance": []
  },
  "kernelspec": {
   "display_name": "Python 3",
   "language": "python",
   "name": "python3"
  },
  "language_info": {
   "codemirror_mode": {
    "name": "ipython",
    "version": 3
   },
   "file_extension": ".py",
   "mimetype": "text/x-python",
   "name": "python",
   "nbconvert_exporter": "python",
   "pygments_lexer": "ipython3",
   "version": "3.7.6"
  }
 },
 "nbformat": 4,
 "nbformat_minor": 1
}
